{
  "nbformat": 4,
  "nbformat_minor": 0,
  "metadata": {
    "colab": {
      "provenance": []
    },
    "kernelspec": {
      "name": "python3",
      "display_name": "Python 3"
    },
    "language_info": {
      "name": "python"
    }
  },
  "cells": [
    {
      "cell_type": "markdown",
      "source": [
        "# **Step 1: Data Scraping**"
      ],
      "metadata": {
        "id": "F-wpc6Y8IEb9"
      }
    },
    {
      "cell_type": "markdown",
      "source": [
        "You are given the freedom to take data or scraping using the Python programming language from various sources, such as the PlayStore platform, X, Instagram, comments on product ratings on e-commerce, and others. The minimum number of datasets that must be obtained is 3,000 samples."
      ],
      "metadata": {
        "id": "0cKxk55vIeD4"
      }
    },
    {
      "cell_type": "code",
      "source": [
        "#Import some required packages and libraries\n",
        "!pip install google_play_scraper\n",
        "from google_play_scraper import reviews, Sort\n",
        "from google.colab import files\n",
        "import pandas as pd"
      ],
      "metadata": {
        "id": "m5YHEkVrYWs3",
        "colab": {
          "base_uri": "https://localhost:8080/"
        },
        "outputId": "1672bfec-e991-4402-cedf-80fc4f2a1429"
      },
      "execution_count": 1,
      "outputs": [
        {
          "output_type": "stream",
          "name": "stdout",
          "text": [
            "Requirement already satisfied: google_play_scraper in /usr/local/lib/python3.11/dist-packages (1.2.7)\n"
          ]
        }
      ]
    },
    {
      "cell_type": "code",
      "source": [
        "#Scraping reviews on the SatuSehat Mobile application on PlayStore\n",
        "app_id = \"com.telkom.tracencare\"\n",
        "def scrape_apk(app_id, jumlah_ulasan=100000):\n",
        "    hasil, _ = reviews(\n",
        "        app_id,\n",
        "        lang=\"id\",\n",
        "        country=\"id\",\n",
        "        sort=Sort.NEWEST,\n",
        "        count=jumlah_ulasan\n",
        "    )\n",
        "\n",
        "    df = pd.DataFrame(hasil)[[\"reviewId\", \"userName\", \"content\", \"score\", \"at\", \"thumbsUpCount\", \"appVersion\"]]\n",
        "    df.rename(columns={\n",
        "        \"reviewId\": \"id_review\",\n",
        "        \"userName\": \"username\",\n",
        "        \"content\": \"ulasan\",\n",
        "        \"score\": \"rating\",\n",
        "        \"at\": \"tanggal\",\n",
        "        \"thumbsUpCount\": \"jumlah_like\",\n",
        "        \"appVersion\": \"versi_aplikasi\"\n",
        "    }, inplace=True)\n",
        "\n",
        "    df.to_csv(\"ulasan_satusehat.csv\", index=False, encoding=\"utf-8\")\n",
        "    print(f\"✅ Successfully saved {len(df)} reviews into ulasan_satusehat.csv\")\n",
        "\n",
        "scrape_apk(app_id, jumlah_ulasan=100000)"
      ],
      "metadata": {
        "colab": {
          "base_uri": "https://localhost:8080/"
        },
        "id": "vrEnblcMTQQ0",
        "outputId": "24a17691-be5e-4bc0-85f6-94df85282688"
      },
      "execution_count": 2,
      "outputs": [
        {
          "output_type": "stream",
          "name": "stdout",
          "text": [
            "✅ Successfully saved 100000 reviews into ulasan_satusehat.csv\n"
          ]
        }
      ]
    },
    {
      "cell_type": "code",
      "source": [
        "#Download CSV file\n",
        "files.download(\"ulasan_satusehat.csv\")"
      ],
      "metadata": {
        "colab": {
          "base_uri": "https://localhost:8080/",
          "height": 17
        },
        "id": "VMJ_JZ8BcLXK",
        "outputId": "1062f5e6-217d-4289-9f78-5aadd16d214b"
      },
      "execution_count": 3,
      "outputs": [
        {
          "output_type": "display_data",
          "data": {
            "text/plain": [
              "<IPython.core.display.Javascript object>"
            ],
            "application/javascript": [
              "\n",
              "    async function download(id, filename, size) {\n",
              "      if (!google.colab.kernel.accessAllowed) {\n",
              "        return;\n",
              "      }\n",
              "      const div = document.createElement('div');\n",
              "      const label = document.createElement('label');\n",
              "      label.textContent = `Downloading \"${filename}\": `;\n",
              "      div.appendChild(label);\n",
              "      const progress = document.createElement('progress');\n",
              "      progress.max = size;\n",
              "      div.appendChild(progress);\n",
              "      document.body.appendChild(div);\n",
              "\n",
              "      const buffers = [];\n",
              "      let downloaded = 0;\n",
              "\n",
              "      const channel = await google.colab.kernel.comms.open(id);\n",
              "      // Send a message to notify the kernel that we're ready.\n",
              "      channel.send({})\n",
              "\n",
              "      for await (const message of channel.messages) {\n",
              "        // Send a message to notify the kernel that we're ready.\n",
              "        channel.send({})\n",
              "        if (message.buffers) {\n",
              "          for (const buffer of message.buffers) {\n",
              "            buffers.push(buffer);\n",
              "            downloaded += buffer.byteLength;\n",
              "            progress.value = downloaded;\n",
              "          }\n",
              "        }\n",
              "      }\n",
              "      const blob = new Blob(buffers, {type: 'application/binary'});\n",
              "      const a = document.createElement('a');\n",
              "      a.href = window.URL.createObjectURL(blob);\n",
              "      a.download = filename;\n",
              "      div.appendChild(a);\n",
              "      a.click();\n",
              "      div.remove();\n",
              "    }\n",
              "  "
            ]
          },
          "metadata": {}
        },
        {
          "output_type": "display_data",
          "data": {
            "text/plain": [
              "<IPython.core.display.Javascript object>"
            ],
            "application/javascript": [
              "download(\"download_5cdbebb0-da51-4ddb-a815-05e7777b94a5\", \"ulasan_satusehat.csv\", 14152519)"
            ]
          },
          "metadata": {}
        }
      ]
    }
  ]
}